{
 "cells": [
  {
   "cell_type": "code",
   "execution_count": 2,
   "id": "ce1c4560",
   "metadata": {},
   "outputs": [],
   "source": [
    "import numpy as np"
   ]
  },
  {
   "cell_type": "code",
   "execution_count": 3,
   "id": "e288317d",
   "metadata": {},
   "outputs": [],
   "source": [
    "mmap = np.memmap('mymmap', dtype='float64', mode='w+', shape=(100000,100000))"
   ]
  },
  {
   "cell_type": "code",
   "execution_count": 4,
   "id": "ec1616fb",
   "metadata": {},
   "outputs": [],
   "source": [
    "section = mmap[:1000]\n",
    "section[:] = np.random.randn(1000,100000)"
   ]
  },
  {
   "cell_type": "code",
   "execution_count": 5,
   "id": "cf974a32",
   "metadata": {},
   "outputs": [
    {
     "data": {
      "text/plain": [
       "memmap([[ 0.34512355, -0.45847141,  0.979968  , ..., -0.12950746,\n",
       "          0.29690084,  1.34727162],\n",
       "        [-0.04645973,  0.28335615, -0.9915901 , ...,  1.76282952,\n",
       "         -0.87160436,  0.50105215],\n",
       "        [-0.71677293,  1.59074388,  0.57009965, ..., -0.79986125,\n",
       "          1.38658222, -0.20975864],\n",
       "        ...,\n",
       "        [ 0.81777331,  0.41950166,  0.53791209, ..., -0.57011531,\n",
       "          0.59763037,  0.26904667],\n",
       "        [-0.11745161,  0.46608227, -0.06633426, ..., -0.21613106,\n",
       "         -0.20033362, -0.96018059],\n",
       "        [-0.57726115, -0.2003358 , -1.05750569, ..., -0.80093243,\n",
       "          0.78629894, -0.88286565]])"
      ]
     },
     "execution_count": 5,
     "metadata": {},
     "output_type": "execute_result"
    }
   ],
   "source": [
    "mmap.flush()\n",
    "mmap[100:1000]"
   ]
  },
  {
   "cell_type": "code",
   "execution_count": 6,
   "id": "6cb076e4",
   "metadata": {},
   "outputs": [],
   "source": [
    "del mmap"
   ]
  },
  {
   "cell_type": "code",
   "execution_count": 7,
   "id": "32438a2e",
   "metadata": {},
   "outputs": [
    {
     "data": {
      "text/plain": [
       "memmap([[ 0.93422601, -0.04941169,  0.02161111, ..., -1.88675791,\n",
       "          0.08138011,  1.98411285],\n",
       "        [ 0.42253918,  0.48228154,  1.9186026 , ...,  0.79515502,\n",
       "         -1.72505738,  0.3947141 ],\n",
       "        [ 0.79634308,  0.2274881 , -0.57156549, ..., -0.26362904,\n",
       "         -0.58031406, -1.02616082],\n",
       "        ...,\n",
       "        [ 0.        ,  0.        ,  0.        , ...,  0.        ,\n",
       "          0.        ,  0.        ],\n",
       "        [ 0.        ,  0.        ,  0.        , ...,  0.        ,\n",
       "          0.        ,  0.        ],\n",
       "        [ 0.        ,  0.        ,  0.        , ...,  0.        ,\n",
       "          0.        ,  0.        ]])"
      ]
     },
     "execution_count": 7,
     "metadata": {},
     "output_type": "execute_result"
    }
   ],
   "source": [
    "mmap = np.memmap('mymmap', dtype='float64', shape=(100000,100000))\n",
    "mmap"
   ]
  },
  {
   "cell_type": "code",
   "execution_count": null,
   "id": "06deeca1",
   "metadata": {},
   "outputs": [],
   "source": []
  },
  {
   "cell_type": "code",
   "execution_count": null,
   "id": "fb0685a6",
   "metadata": {},
   "outputs": [],
   "source": []
  },
  {
   "cell_type": "code",
   "execution_count": null,
   "id": "2105871d",
   "metadata": {},
   "outputs": [],
   "source": []
  },
  {
   "cell_type": "code",
   "execution_count": null,
   "id": "f631a39c",
   "metadata": {},
   "outputs": [],
   "source": []
  }
 ],
 "metadata": {
  "kernelspec": {
   "display_name": "Python 3",
   "language": "python",
   "name": "python3"
  },
  "language_info": {
   "codemirror_mode": {
    "name": "ipython",
    "version": 3
   },
   "file_extension": ".py",
   "mimetype": "text/x-python",
   "name": "python",
   "nbconvert_exporter": "python",
   "pygments_lexer": "ipython3",
   "version": "3.9.1"
  }
 },
 "nbformat": 4,
 "nbformat_minor": 5
}
