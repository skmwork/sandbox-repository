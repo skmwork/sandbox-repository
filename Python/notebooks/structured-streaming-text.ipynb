{
 "cells": [
  {
   "cell_type": "code",
   "execution_count": 1,
   "id": "a9289528",
   "metadata": {},
   "outputs": [],
   "source": [
    "from pyspark import SparkContext\n",
    "from pyspark.streaming import StreamingContext\n",
    "from pyspark.sql import Row, SparkSession"
   ]
  },
  {
   "cell_type": "code",
   "execution_count": 2,
   "id": "db88e181",
   "metadata": {},
   "outputs": [
    {
     "name": "stdout",
     "output_type": "stream",
     "text": [
      "22/07/07 11:16:11 WARN Utils: Your hostname, ubuntu1-virtual-machine resolves to a loopback address: 127.0.1.1, but we couldn't find any external IP address!\n",
      "22/07/07 11:16:11 WARN Utils: Set SPARK_LOCAL_IP if you need to bind to another address\n"
     ]
    },
    {
     "name": "stderr",
     "output_type": "stream",
     "text": [
      "Setting default log level to \"WARN\".\n",
      "To adjust logging level use sc.setLogLevel(newLevel). For SparkR, use setLogLevel(newLevel).\n"
     ]
    },
    {
     "name": "stdout",
     "output_type": "stream",
     "text": [
      "22/07/07 11:16:12 WARN NativeCodeLoader: Unable to load native-hadoop library for your platform... using builtin-java classes where applicable\n",
      "22/07/07 11:16:12 WARN MacAddressUtil: Failed to find a usable hardware address from the network interfaces; using random bytes: 71:f1:c3:85:14:23:37:db\n"
     ]
    }
   ],
   "source": [
    "spark = SparkSession.builder\\\n",
    ".appName(\"StructuredStreamingText2\")\\\n",
    ".getOrCreate()"
   ]
  },
  {
   "cell_type": "code",
   "execution_count": 3,
   "id": "de1af19a",
   "metadata": {},
   "outputs": [],
   "source": [
    "from pyspark.sql.types import StructType"
   ]
  },
  {
   "cell_type": "code",
   "execution_count": 4,
   "id": "2cf0ee9f",
   "metadata": {},
   "outputs": [],
   "source": [
    "userSchema = StructType().add('name', 'string').add('salary', 'integer')"
   ]
  },
  {
   "cell_type": "code",
   "execution_count": 5,
   "id": "bf97698b",
   "metadata": {},
   "outputs": [],
   "source": [
    "dfCSV = spark.readStream.option('sep', ';').option('header', 'false').schema(userSchema).csv('tmp')"
   ]
  },
  {
   "cell_type": "code",
   "execution_count": 10,
   "id": "9b5b3b6e",
   "metadata": {},
   "outputs": [],
   "source": [
    "import pyspark.sql.functions as F \n",
    "nameCountsDF = dfCSV.groupBy(dfCSV.name).agg(F.sum(\"salary\"), F.count(\"*\"))"
   ]
  },
  {
   "cell_type": "code",
   "execution_count": 11,
   "id": "945c5ca8",
   "metadata": {},
   "outputs": [
    {
     "name": "stdout",
     "output_type": "stream",
     "text": [
      "22/07/07 11:28:06 WARN ResolveWriteToStream: Temporary checkpoint location created which is deleted normally when the query didn't fail: /tmp/temporary-098e4643-fe8e-4144-a08f-b312a63b6507. If it's required to delete it under any circumstances, please set spark.sql.streaming.forceDeleteTempCheckpointLocation to true. Important to know deleting temp checkpoint folder is best effort.\n",
      "22/07/07 11:28:06 WARN ResolveWriteToStream: spark.sql.adaptive.enabled is not supported in streaming DataFrames/Datasets and will be disabled.\n"
     ]
    },
    {
     "name": "stderr",
     "output_type": "stream",
     "text": [
      "                                                                                \r"
     ]
    },
    {
     "name": "stdout",
     "output_type": "stream",
     "text": [
      "-------------------------------------------\n",
      "Batch: 0\n",
      "-------------------------------------------\n",
      "+-----+-----------+--------+\n",
      "| name|sum(salary)|count(1)|\n",
      "+-----+-----------+--------+\n",
      "|hello|          1|       1|\n",
      "|world|          1|       1|\n",
      "+-----+-----------+--------+\n",
      "\n"
     ]
    },
    {
     "name": "stderr",
     "output_type": "stream",
     "text": [
      "                                                                                \r"
     ]
    },
    {
     "name": "stdout",
     "output_type": "stream",
     "text": [
      "-------------------------------------------\n",
      "Batch: 1\n",
      "-------------------------------------------\n",
      "+-----+-----------+--------+\n",
      "| name|sum(salary)|count(1)|\n",
      "+-----+-----------+--------+\n",
      "|hello|        301|       2|\n",
      "|world|          1|       1|\n",
      "+-----+-----------+--------+\n",
      "\n"
     ]
    },
    {
     "name": "stderr",
     "output_type": "stream",
     "text": [
      "                                                                                \r"
     ]
    },
    {
     "name": "stdout",
     "output_type": "stream",
     "text": [
      "-------------------------------------------\n",
      "Batch: 2\n",
      "-------------------------------------------\n",
      "+-----+-----------+--------+\n",
      "| name|sum(salary)|count(1)|\n",
      "+-----+-----------+--------+\n",
      "|hello|        301|       2|\n",
      "|world|        101|       2|\n",
      "+-----+-----------+--------+\n",
      "\n"
     ]
    }
   ],
   "source": [
    "query = nameCountsDF.writeStream.outputMode(\"complete\").format(\"console\").queryName(\"counts\").start()"
   ]
  },
  {
   "cell_type": "code",
   "execution_count": null,
   "id": "c3a519be",
   "metadata": {},
   "outputs": [],
   "source": [
    "query.awaitTermination()"
   ]
  },
  {
   "cell_type": "code",
   "execution_count": null,
   "id": "9979e394",
   "metadata": {},
   "outputs": [],
   "source": [
    "query.stop()"
   ]
  },
  {
   "cell_type": "code",
   "execution_count": null,
   "id": "4ed569d3",
   "metadata": {},
   "outputs": [],
   "source": []
  }
 ],
 "metadata": {
  "kernelspec": {
   "display_name": "Python 3 (ipykernel)",
   "language": "python",
   "name": "python3"
  },
  "language_info": {
   "codemirror_mode": {
    "name": "ipython",
    "version": 3
   },
   "file_extension": ".py",
   "mimetype": "text/x-python",
   "name": "python",
   "nbconvert_exporter": "python",
   "pygments_lexer": "ipython3",
   "version": "3.8.10"
  }
 },
 "nbformat": 4,
 "nbformat_minor": 5
}
